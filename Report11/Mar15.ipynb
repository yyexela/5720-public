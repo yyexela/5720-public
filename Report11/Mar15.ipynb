{
 "cells": [
  {
   "cell_type": "markdown",
   "id": "5c601e08-1f95-4d0e-a8f9-7256f79a0e3c",
   "metadata": {},
   "source": [
    "# APPM X720 Biweekly Report\n",
    "\n",
    "### *Alexey Yermakov*\n",
    "### *March 15, 2022*"
   ]
  },
  {
   "cell_type": "markdown",
   "id": "20a7914f-e588-4f97-a4b9-1e4a3540964e",
   "metadata": {},
   "source": [
    "# Summary\n",
    "\n",
    "In this report I explore Byte Pair Encoding (BPE) on the newstest2013 dataset. I also do a brief EDA on newstest2013 since I have not heard of this dataset before."
   ]
  },
  {
   "cell_type": "markdown",
   "id": "4357d1a8-78da-4363-987c-7190b9460399",
   "metadata": {},
   "source": [
    "# Main Content\n",
    "\n",
    "*Note*: For some reason, all of my usual methods of adding in-place images to this notebook were failing. I was unable to figure out what was causing this issue so please refer to the images as they're discussed. I apologize for any inconvenience!\n",
    "\n",
    "### **Byte Pair Encoding**\n",
    "\n",
    "First, I explore Byte Pair Encoding (BPE). The paper which references this method from class can be found [here](https://arxiv.org/pdf/1508.07909.pdf). The paper uses this method in neural machine translation so that the meaning of unknown words can be inferred from \"smaller units\" that make up the word. For example, if the word \"sweetish\" is unknown during translation time, then we can imagine that the sub-words \"sweet\" and \"ish\" have been found during training time which can allow the model to infer what \"sweetish\" means.\n",
    "\n",
    "Fortunately, the aforementioned paper provides the algorithm used for BPE! Here it is:"
   ]
  },
  {
   "cell_type": "markdown",
   "id": "95fdda1a-e23c-47f5-b91a-388b7c81fc9a",
   "metadata": {},
   "source": [
    "<img src=\"Images/Algorithm.png\" alt=\"BPE Algorithm\" style=\"width:500px\">\n",
    "(Please refer to `Images/Algorithm.png`)"
   ]
  },
  {
   "cell_type": "markdown",
   "id": "3cf05548-ba0f-4750-abe6-bd28f27253e6",
   "metadata": {},
   "source": [
    "What does this do? First, our vocab is split into individual characters, as well as a special \"end of word\" character denoted by `</w>`. The characters are separated by spaces in this example. The vocab also contains frequencies of each word (look at the `vocab` variable above). Then, we run the BPE algorithm `num_merges` number of times to combine the most frequent pairs of tokens (which are initially just characters, but later include groups of characters). After `num_merges` iterations, we have a *new* vocab which contains groupings of characters which are potentially full words, sub-words, or individual characters of out original vocabulary.\n",
    "\n",
    "Lets now implement this in Python 3 and test it out.\n",
    "\n",
    "First I have my usual imports."
   ]
  },
  {
   "cell_type": "code",
   "execution_count": 1,
   "id": "8b109ecc-7536-4fb0-a0ae-e5db9ab3f96c",
   "metadata": {},
   "outputs": [
    {
     "name": "stdout",
     "output_type": "stream",
     "text": [
      "GPU Available? True\n"
     ]
    }
   ],
   "source": [
    "# Make sure PyTorch is installed and our GPU is available\n",
    "import torch\n",
    "import numpy as np\n",
    "import matplotlib.pyplot as plt\n",
    "from collections import OrderedDict\n",
    "import re, collections\n",
    "from tabulate import tabulate\n",
    "import os\n",
    "\n",
    "# Check if GPU is available\n",
    "print(\"GPU Available?\",torch.cuda.is_available())\n",
    "device = \"cpu\"\n",
    "if torch.cuda.is_available():\n",
    "    device = \"cuda\""
   ]
  },
  {
   "cell_type": "markdown",
   "id": "d8900c74-eeb4-42cf-b2b7-18db52f8c50e",
   "metadata": {},
   "source": [
    "Then, I define the algorithm by copying the pseudo-code from above. I modified the for loop over `num_merges` to make the output of the code cleaner in the notebook. I did not modify `get_stats` nor `merge_vocab`."
   ]
  },
  {
   "cell_type": "code",
   "execution_count": 2,
   "id": "8c9ce63d-0428-421c-917b-4fe384e7d79a",
   "metadata": {},
   "outputs": [
    {
     "name": "stdout",
     "output_type": "stream",
     "text": [
      "('e', 's')\n",
      "{'l o w </w>': 5, 'l o w e r </w>': 2, 'n e w es t </w>': 6, 'w i d es t </w>': 3}\n",
      "\n",
      "('es', 't')\n",
      "{'l o w </w>': 5, 'l o w e r </w>': 2, 'n e w est </w>': 6, 'w i d est </w>': 3}\n",
      "\n",
      "('est', '</w>')\n",
      "{'l o w </w>': 5, 'l o w e r </w>': 2, 'n e w est</w>': 6, 'w i d est</w>': 3}\n",
      "\n",
      "('l', 'o')\n",
      "{'lo w </w>': 5, 'lo w e r </w>': 2, 'n e w est</w>': 6, 'w i d est</w>': 3}\n",
      "\n",
      "('lo', 'w')\n",
      "{'low </w>': 5, 'low e r </w>': 2, 'n e w est</w>': 6, 'w i d est</w>': 3}\n",
      "\n",
      "('n', 'e')\n",
      "{'low </w>': 5, 'low e r </w>': 2, 'ne w est</w>': 6, 'w i d est</w>': 3}\n",
      "\n",
      "('ne', 'w')\n",
      "{'low </w>': 5, 'low e r </w>': 2, 'new est</w>': 6, 'w i d est</w>': 3}\n",
      "\n",
      "('new', 'est</w>')\n",
      "{'low </w>': 5, 'low e r </w>': 2, 'newest</w>': 6, 'w i d est</w>': 3}\n",
      "\n",
      "('low', '</w>')\n",
      "{'low</w>': 5, 'low e r </w>': 2, 'newest</w>': 6, 'w i d est</w>': 3}\n",
      "\n",
      "('w', 'i')\n",
      "{'low</w>': 5, 'low e r </w>': 2, 'newest</w>': 6, 'wi d est</w>': 3}\n",
      "\n"
     ]
    }
   ],
   "source": [
    "# Copied from pseudocode\n",
    "def get_stats(vocab):\n",
    "    pairs = collections.defaultdict(int)\n",
    "    for word, freq in vocab.items():\n",
    "        symbols = word.split()\n",
    "        for i in range(len(symbols)-1):\n",
    "            pairs[symbols[i],symbols[i+1]] += freq\n",
    "    return pairs\n",
    "    \n",
    "# Copied from pseudocode\n",
    "def merge_vocab(pair, v_in):\n",
    "    v_out = {}\n",
    "    bigram = re.escape(' '.join(pair))\n",
    "    p = re.compile(r'(?<!\\S)' + bigram + r'(?!\\S)')\n",
    "    for word in v_in:\n",
    "        w_out = p.sub(''.join(pair), word)\n",
    "        v_out[w_out] = v_in[word]\n",
    "    return v_out\n",
    "\n",
    "# Modified from Pseudocode\n",
    "def run_BPE_example(vocab, num_merges = 10, verbose=1):\n",
    "    # Iterate over number of merges\n",
    "    for i in range(num_merges):\n",
    "        # Get pairs and their frequencies\n",
    "        pairs = get_stats(vocab)\n",
    "        \n",
    "        # Get the most frequent pair, sometimes this fails if\n",
    "        # there are no more pairs (all words are whole)\n",
    "        try:\n",
    "            best = max(pairs, key=pairs.get)\n",
    "        except:\n",
    "            raise Exception(f\"run_BPE_example: max() failed for merge number {i+1}\")\n",
    "            \n",
    "        # Merge the vocab together based on the most frequent pair\n",
    "        vocab = merge_vocab(best, vocab)\n",
    "        \n",
    "        # Prints\n",
    "        if verbose == 1:\n",
    "            print(best)\n",
    "            print(vocab)\n",
    "            print()\n",
    "        elif verbose == 2:\n",
    "            print(best)\n",
    "            print()\n",
    "    \n",
    "    # Return merged vocab\n",
    "    return vocab\n",
    "    \n",
    "sample_dict = {'l o w </w>':5, 'l o w e r </w>':2, 'n e w e s t </w>':6, 'w i d e s t </w>':3}\n",
    "run_BPE_example(vocab = sample_dict, verbose=1, num_merges=10)\n",
    "None"
   ]
  },
  {
   "cell_type": "markdown",
   "id": "ca069479-8b9f-4e25-9d8b-4400905ff068",
   "metadata": {},
   "source": [
    "Excellent! The code works fine in Python 3 and we get the same output as we saw in the [lecture slide](https://raw.githubusercontent.com/maziarraissi/Applied-Deep-Learning/main/02%20-%20Natural%20Language%20Processing/03%20-%20Neural%20Machine%20Translation.pdf):\n",
    "\n",
    "<img src=\"Images/Lecture.png\" alt=\"Lecture Slide\" style=\"width:500px\">\n",
    "(Please refer to `Images/Lecture.png`)"
   ]
  },
  {
   "cell_type": "markdown",
   "id": "dd596d3b-1a2f-453e-9269-d3ab0011c5bf",
   "metadata": {},
   "source": [
    "This is fine and dandy, but I want some helper functions that take in a sentence, or a list of sentences, and turns it into a vocabulary we can input into the BPE algorithm above. This will help working with a real dataset much easier."
   ]
  },
  {
   "cell_type": "code",
   "execution_count": 3,
   "id": "d0bf7523-654d-4aad-b51b-35f6c137d5a5",
   "metadata": {},
   "outputs": [
    {
     "name": "stdout",
     "output_type": "stream",
     "text": [
      "{'help': 2, 'me': 3, 'make': 1, 'this': 1, 'function': 1, 'or': 1, \"don't\": 1, 'and': 1, 'watch': 1, 'cry': 1}\n"
     ]
    }
   ],
   "source": [
    "# Given a list of lines, get the vocab and frequency for each word\n",
    "def create_vocab_from_lines(lines):\n",
    "    vocab = {}\n",
    "    for line in lines:\n",
    "        words = line.split(' ')\n",
    "        for word in words:\n",
    "            vocab[word] = vocab.get(word, 0) + 1\n",
    "    return vocab\n",
    "\n",
    "print(create_vocab_from_lines([\"help me make\", \"this function\",\\\n",
    "                    \"or don't help me\", \"and watch me cry\"]))"
   ]
  },
  {
   "cell_type": "markdown",
   "id": "0db01241-6497-4f8c-908e-02f22ef62599",
   "metadata": {},
   "source": [
    "That was easy enough! Now I want a function which takes the output of the BPE algorithm above and turns it into a vocabulary like what we have in the preceding code block."
   ]
  },
  {
   "cell_type": "code",
   "execution_count": 4,
   "id": "d2c0be53-86f2-4cad-b364-03114a6a277c",
   "metadata": {},
   "outputs": [
    {
     "name": "stdout",
     "output_type": "stream",
     "text": [
      "{'low</w>': 5, 'low': 2, 'e': 2, 'r': 2, '</w>': 2, 'newest</w>': 6, 'wi': 3, 'd': 3, 'est</w>': 3}\n"
     ]
    }
   ],
   "source": [
    "# Given a BPE output from the pseudocode, convert it back to a vocab with frequencies\n",
    "def create_vocab_from_BPE(BPE_output):\n",
    "    vocab = {}\n",
    "    for key, item in BPE_output.items():\n",
    "        tokens = key.split(' ')\n",
    "        for token in tokens:\n",
    "            vocab[token] = vocab.get(token, 0) + item\n",
    "    return vocab\n",
    "\n",
    "print(create_vocab_from_BPE(run_BPE_example(sample_dict, verbose=0)))"
   ]
  },
  {
   "cell_type": "markdown",
   "id": "f10fd47e-7578-4edb-8f26-094efe3e0852",
   "metadata": {},
   "source": [
    "Great! So this looks like it works too, though the keen-eye among you will notice that this doesn't really prove that the case where there is the same token in multiple outputs of the BPE algorithm, then the frequency adds up. For example, if the input dictionary was:\n",
    "\n",
    "`{'low </w>': 5, '</w>': 2}`\n",
    "\n",
    "then the output of the above function would be:\n",
    "\n",
    "`{'low': 5, '</w>': 7}`\n",
    "\n",
    "Fortunately, this is really easy to test!"
   ]
  },
  {
   "cell_type": "code",
   "execution_count": 5,
   "id": "b14bcf09-54cc-4a1c-a241-b90016652e50",
   "metadata": {},
   "outputs": [
    {
     "name": "stdout",
     "output_type": "stream",
     "text": [
      "{'low': 5, '</w>': 7}\n"
     ]
    }
   ],
   "source": [
    "print(create_vocab_from_BPE({'low </w>': 5, '</w>': 2}))"
   ]
  },
  {
   "cell_type": "markdown",
   "id": "d3481f46-7d42-4582-a8f1-6a2aa40895b8",
   "metadata": {},
   "source": [
    "Excellent! One last thing I want is to convert a sample dictionary into something that BPE can work with."
   ]
  },
  {
   "cell_type": "code",
   "execution_count": 6,
   "id": "5af44c07-2aec-4c46-b112-142c91f171aa",
   "metadata": {},
   "outputs": [
    {
     "name": "stdout",
     "output_type": "stream",
     "text": [
      "Original dict: {'low': 5, 'lower': 2, 'newest': 6, 'wildest': 3}\n",
      "Output dict: {'l o w </w>': 5, 'l o w e r </w>': 2, 'n e w e s t </w>': 6, 'w i l d e s t </w>': 3}\n",
      "Re-run BPE:\n",
      "('e', 's')\n",
      "{'l o w </w>': 5, 'l o w e r </w>': 2, 'n e w es t </w>': 6, 'w i l d es t </w>': 3}\n",
      "\n",
      "('es', 't')\n",
      "{'l o w </w>': 5, 'l o w e r </w>': 2, 'n e w est </w>': 6, 'w i l d est </w>': 3}\n",
      "\n",
      "('est', '</w>')\n",
      "{'l o w </w>': 5, 'l o w e r </w>': 2, 'n e w est</w>': 6, 'w i l d est</w>': 3}\n",
      "\n",
      "('l', 'o')\n",
      "{'lo w </w>': 5, 'lo w e r </w>': 2, 'n e w est</w>': 6, 'w i l d est</w>': 3}\n",
      "\n",
      "('lo', 'w')\n",
      "{'low </w>': 5, 'low e r </w>': 2, 'n e w est</w>': 6, 'w i l d est</w>': 3}\n",
      "\n",
      "('n', 'e')\n",
      "{'low </w>': 5, 'low e r </w>': 2, 'ne w est</w>': 6, 'w i l d est</w>': 3}\n",
      "\n",
      "('ne', 'w')\n",
      "{'low </w>': 5, 'low e r </w>': 2, 'new est</w>': 6, 'w i l d est</w>': 3}\n",
      "\n",
      "('new', 'est</w>')\n",
      "{'low </w>': 5, 'low e r </w>': 2, 'newest</w>': 6, 'w i l d est</w>': 3}\n",
      "\n",
      "('low', '</w>')\n",
      "{'low</w>': 5, 'low e r </w>': 2, 'newest</w>': 6, 'w i l d est</w>': 3}\n",
      "\n",
      "('w', 'i')\n",
      "{'low</w>': 5, 'low e r </w>': 2, 'newest</w>': 6, 'wi l d est</w>': 3}\n",
      "\n"
     ]
    },
    {
     "data": {
      "text/plain": [
       "{'low</w>': 5, 'low e r </w>': 2, 'newest</w>': 6, 'wi l d est</w>': 3}"
      ]
     },
     "execution_count": 6,
     "metadata": {},
     "output_type": "execute_result"
    }
   ],
   "source": [
    "# Given a vocab of frequencies, convert it to BPE-pseudocode accepted input\n",
    "def create_BPE_from_vocab(vocab):\n",
    "    output = {}\n",
    "    for key, value in vocab.items():\n",
    "        output[\" \".join(key) + \" </w>\"] = value\n",
    "    return output\n",
    "    \n",
    "sample_dict = {\"low\": 5, \"lower\": 2, \"newest\": 6, \"wildest\": 3}\n",
    "print(\"Original dict:\", sample_dict)\n",
    "output_dict = create_BPE_from_vocab(sample_dict)\n",
    "print(\"Output dict:\", output_dict)\n",
    "print(\"Re-run BPE:\")\n",
    "run_BPE_example(vocab = output_dict, verbose=1)"
   ]
  },
  {
   "cell_type": "markdown",
   "id": "f702248a-fd21-4e84-9480-29573bdfa390",
   "metadata": {},
   "source": [
    "Very good! Now we can run some tests on a dataset and see our results. The [paper](https://arxiv.org/pdf/1508.07909.pdf) mentions the `newstest2013` dataset (see Table 1's description). I went ahead and downloaded the dataset from [here](https://nlp.stanford.edu/projects/nmt/data/wmt15.en-cs/newstest2013.en). I'll now do a quick EDA detour for that dataset."
   ]
  },
  {
   "cell_type": "markdown",
   "id": "92076ec5-c68d-42f0-b1a7-7af92191a2fb",
   "metadata": {},
   "source": [
    "### **Newstest 2013 EDA**"
   ]
  },
  {
   "cell_type": "markdown",
   "id": "041274a8-279b-4b35-9e6a-059b9a8e056f",
   "metadata": {},
   "source": [
    "Where does this dataset come from? Unfortunately, after googling for a while, I was unable to locate its source. However, I think I have a good understanding of what it's used for. The file contains 3000 lines of sentences in english. There are accompanying datasets which are translations of the English file (for example, in German and Czech). These can be found [here](https://nlp.stanford.edu/projects/nmt/).\n",
    "\n",
    "What is this dataset used for? Due to the aforementioned translated versions, these files are used to test translation models! Though, you may also be surprised at how little number of sentences there are. However, this can be explained by the fact that it is not used to train the models, but to evaluate their performance! The link in the previous paragraph has training files which contain several *millions* of lines of data for training, which is much better for deep learning applications.\n",
    "\n",
    "Now lets look deeper at `newstest2013.en` - the English translation. First, I define a function which gets the frequencies of words from the original dataset. I also print the number of sentences and words."
   ]
  },
  {
   "cell_type": "code",
   "execution_count": 7,
   "id": "cbaf10fb-dc0e-4880-8349-0d31367bdae1",
   "metadata": {},
   "outputs": [
    {
     "name": "stdout",
     "output_type": "stream",
     "text": [
      "Number of sentences: 3000\n",
      "Number of words: 9676\n"
     ]
    }
   ],
   "source": [
    "# Location of dataset\n",
    "top_dir = \"/home/alexey/School/APPM 4720/Biweekly/Mar15/Report/Datasets\"\n",
    "newstest2013 = os.path.join(top_dir, 'newstest2013.en')\n",
    "\n",
    "# Returns an ordered dictionary of words and their frequencies\n",
    "def get_freq_data(file_name):\n",
    "    # Output vocab\n",
    "    words_dict = OrderedDict()\n",
    "    \n",
    "    # Total number of sentences\n",
    "    num_sentences = 0\n",
    "    \n",
    "    # Open file\n",
    "    with open(file_name) as f:\n",
    "        # Read line by line\n",
    "        lines = f.readlines()\n",
    "        num_sentences = len(lines)\n",
    "        for i in range(len(lines)):\n",
    "            line = lines[i]\n",
    "            words = line.split()\n",
    "            \n",
    "            # Split each line into words\n",
    "            for word in words:\n",
    "                # Add and/or increment relevant frequency for the word\n",
    "                words_dict[word] = words_dict.get(word, 0) + 1\n",
    "\n",
    "        # Sort dictionarie\n",
    "        words_dict = OrderedDict(sorted(words_dict.items(), key=lambda x: x[1], reverse=True))\n",
    "\n",
    "        # Return dictionary and the number of sentences\n",
    "        return words_dict, num_sentences\n",
    "    raise Exception(\"get_data: File cound not be opened\")\n",
    "    \n",
    "words_freq_dict, num_sentences = get_freq_data(newstest2013)\n",
    "\n",
    "print(\"Number of sentences:\", num_sentences)\n",
    "print(\"Number of words:\", len(words_freq_dict))"
   ]
  },
  {
   "cell_type": "markdown",
   "id": "e15fd5ac-6dec-4c33-a96c-f137d0cb3375",
   "metadata": {},
   "source": [
    "Now, we can display some meaningful figures and statistics! First, I make a table of the 20 most and least common words from the dataset."
   ]
  },
  {
   "cell_type": "code",
   "execution_count": 8,
   "id": "66a3e606-b5fc-42fe-b241-18102672e996",
   "metadata": {},
   "outputs": [
    {
     "name": "stdout",
     "output_type": "stream",
     "text": [
      "+------------------+-------+\n",
      "|       Word       | Count |\n",
      "+------------------+-------+\n",
      "|        ,         | 3719  |\n",
      "|       the        | 3442  |\n",
      "|        .         | 2710  |\n",
      "|        of        | 1780  |\n",
      "|        to        | 1477  |\n",
      "|        in        | 1211  |\n",
      "|       and        | 1198  |\n",
      "|        a         | 1197  |\n",
      "|        \"         | 1004  |\n",
      "|        is        |  842  |\n",
      "|       that       |  586  |\n",
      "|       for        |  490  |\n",
      "|       are        |  430  |\n",
      "|       The        |  422  |\n",
      "|        on        |  401  |\n",
      "|       with       |  399  |\n",
      "|        it        |  387  |\n",
      "|        I         |  366  |\n",
      "|       not        |  350  |\n",
      "|        be        |  323  |\n",
      "|       ...        |  ...  |\n",
      "|      Zeglen      |   1   |\n",
      "|   21-year-old    |   1   |\n",
      "|     Chester      |   1   |\n",
      "|      Mayans      |   1   |\n",
      "|     suffers      |   1   |\n",
      "|     anxiety      |   1   |\n",
      "|    predicting    |   1   |\n",
      "|   speculations   |   1   |\n",
      "| English-speaking |   1   |\n",
      "|    Dougherty     |   1   |\n",
      "|      Salle       |   1   |\n",
      "|    indulgence    |   1   |\n",
      "|       Pope       |   1   |\n",
      "|  philosophising  |   1   |\n",
      "|    seven-year    |   1   |\n",
      "|     teachers     |   1   |\n",
      "|      Samira      |   1   |\n",
      "|       Ford       |   1   |\n",
      "|   20-year-old    |   1   |\n",
      "|  communications  |   1   |\n",
      "+------------------+-------+\n"
     ]
    }
   ],
   "source": [
    "# Take a vocab with frequencies and make it a pretty table\n",
    "def make_freq_table(words_freq_dict):\n",
    "    # Parameters\n",
    "    cur_dict = words_freq_dict\n",
    "    dict_title = \"Word\"\n",
    "    n = 20\n",
    "    \n",
    "    # Create our table data\n",
    "    dict_tmp = dict()\n",
    "    dict_tmp[dict_title] = list()\n",
    "    dict_tmp[\"Count\"] = list()\n",
    "    dict_len = len(cur_dict)\n",
    "    for k in cur_dict:\n",
    "        dict_tmp[dict_title].append(k)\n",
    "        dict_tmp[\"Count\"].append(cur_dict[k])\n",
    "\n",
    "    # Shrink our output if there are too many items\n",
    "    if len(dict_tmp[dict_title]) > 2*n:\n",
    "        dict_tmp[dict_title] = dict_tmp[dict_title][0:n] + [\"...\"] + dict_tmp[dict_title][-n:]\n",
    "        dict_tmp[\"Count\"] = dict_tmp[\"Count\"][0:n] + [\"...\"] + dict_tmp[\"Count\"][-n:]\n",
    "\n",
    "    print(tabulate(dict_tmp, headers=\"keys\", tablefmt=\"pretty\"))\n",
    "    return None\n",
    "    \n",
    "make_freq_table(words_freq_dict)"
   ]
  },
  {
   "cell_type": "markdown",
   "id": "1bd50a7b-a0a0-4290-acca-5d7cd607b8e4",
   "metadata": {},
   "source": [
    "Cool! Keep in mind that this dataset is pre-processed, so a sentence starting with `\"The ...` would be split into a sentence like `\" The ...`, which is why `\"` is seen as a very frequent word. On first observation, this data isn't super interesting, since we see frequent words at the top and less frequent words at the bottom. Lets see what the distribution of words look like."
   ]
  },
  {
   "cell_type": "code",
   "execution_count": 9,
   "id": "e7261f88-b2fa-4e2a-8345-86deb3d24ed8",
   "metadata": {},
   "outputs": [
    {
     "data": {
      "image/png": "[encoded data removed]",
      "text/plain": [
       "<Figure size 1000x500 with 1 Axes>"
      ]
     },
     "metadata": {},
     "output_type": "display_data"
    },
    {
     "data": {
      "image/png": "[encoded data removed]",
      "text/plain": [
       "<Figure size 1000x500 with 1 Axes>"
      ]
     },
     "metadata": {},
     "output_type": "display_data"
    }
   ],
   "source": [
    "# Given a vocab of frequencies, make a nice histogram\n",
    "def make_freq_histogram(words_freq_dict, num_lines, n_top = 10, labels=True):\n",
    "    # Plot handles\n",
    "    fig, ax = plt.subplots(1, 1, figsize=(10,5))\n",
    "\n",
    "    # Convert names of variables since this is re-used code from a previous report\n",
    "    cur_dict, dict_title = words_freq_dict, \"Words\"\n",
    "    \n",
    "    # Create our plotting data\n",
    "    dict_tmp = dict()\n",
    "    dict_tmp[dict_title] = list()\n",
    "    dict_tmp[\"Count\"] = list()\n",
    "    dict_len = len(cur_dict)\n",
    "    for k in cur_dict:\n",
    "        dict_tmp[dict_title].append(k)\n",
    "        dict_tmp[\"Count\"].append(cur_dict[k])\n",
    "\n",
    "    # Shrink our output if there are too many items\n",
    "    if len(dict_tmp[dict_title]) > 2*n_top:\n",
    "        dict_tmp[dict_title] = dict_tmp[dict_title][0:n_top]\n",
    "        dict_tmp[\"Count\"] = dict_tmp[\"Count\"][0:n_top]\n",
    "\n",
    "    # Change the naming\n",
    "    keys = dict_tmp[dict_title]\n",
    "    values = dict_tmp[\"Count\"]\n",
    "\n",
    "    # Make the histogram\n",
    "    ax.bar(range(len(keys)), values, 0.9, color='darkgoldenrod')\n",
    "    ax.set_title(f\"Histogram for top {n_top} {dict_title.lower()} in newstest2013\")\n",
    "    if labels:\n",
    "        ax.set_xticks(range(len(keys)), keys, rotation='vertical')\n",
    "    \n",
    "    fig.tight_layout()\n",
    "\n",
    "make_freq_histogram(words_freq_dict, num_sentences, n_top = len(words_freq_dict), labels=False)\n",
    "make_freq_histogram(words_freq_dict, num_sentences, n_top = 60, labels=True)"
   ]
  },
  {
   "cell_type": "markdown",
   "id": "94b0e226-5344-41ed-9123-3b4e8aeb7ff9",
   "metadata": {},
   "source": [
    "So, from the above figures we can see that there is a strong presence of a very *small* amount of high-frequency words and a *long* tail of much less frequent words. I would expect this with language datasets and this doesn't seem to striking to me. Anyways, back to BPE!"
   ]
  },
  {
   "cell_type": "markdown",
   "id": "b9baf893-7dbd-4738-8f5f-cb403ec4a6e7",
   "metadata": {},
   "source": [
    "### **Byte Pair Encoding (Continued)**\n",
    "\n",
    "A big benefit of BPE is that it only marginally increases the number of tokens in a corpus while *significantly* reducing the number of types of a corpus. We can refer to the following table to see this from the paper we covered in class:\n",
    "\n",
    "<img src=\"Images/BPETable.png\" alt=\"BPE Table\" style=\"width:500px\">\n",
    "(Please refer to `Images/BPETable.png`)\n",
    "\n",
    "In this context, a token is a single vocabulary word and a type is a unique vocabulary word. So, for the sentence \"Where in the world did the cat in the cat go\" the sentence length is 11, which is the number of tokens, and the number of types is the number of unique words, which is \"8\". \n",
    "\n",
    "Lets add one more function that will help us calculate these values from a dictionary of words and frequencies."
   ]
  },
  {
   "cell_type": "code",
   "execution_count": 10,
   "id": "793e57c7-67d2-4a77-a455-31252d8afe5b",
   "metadata": {},
   "outputs": [
    {
     "name": "stdout",
     "output_type": "stream",
     "text": [
      "Sample dictionary: {'low': 5, 'lower': 2, 'newest': 6, 'wildest': 3}\n",
      "Tokens: 16, types: 4\n"
     ]
    }
   ],
   "source": [
    "# Given a dictionary of frequencies, return the number of tokens and types\n",
    "def get_num_tokens_types(input_dict):\n",
    "    num_tokens = 0\n",
    "    num_types = len(input_dict)\n",
    "    for _, value in input_dict.items():\n",
    "        num_tokens += value\n",
    "    return num_tokens, num_types\n",
    "\n",
    "print(\"Sample dictionary:\", sample_dict)\n",
    "tokens, types = get_num_tokens_types(sample_dict)\n",
    "print(f\"Tokens: {tokens}, types: {types}\")"
   ]
  },
  {
   "cell_type": "markdown",
   "id": "e3bac8dd-d87a-48e6-a64a-e6a8c2208b4d",
   "metadata": {},
   "source": [
    "Now let's explore the effect of BPE on these values! lets get a baseline reading first, by calculating tokens and types for the newstest2013 dataset without any BPE."
   ]
  },
  {
   "cell_type": "code",
   "execution_count": 11,
   "id": "4b48a99d-25a8-40ed-a810-8c73a4dcd5b6",
   "metadata": {},
   "outputs": [
    {
     "name": "stdout",
     "output_type": "stream",
     "text": [
      "Tokens: 64807, types: 9676\n"
     ]
    }
   ],
   "source": [
    "words_freq_dict, num_sentences = get_freq_data(newstest2013)\n",
    "tokens, types = get_num_tokens_types(words_freq_dict)\n",
    "print(f\"Tokens: {tokens}, types: {types}\")"
   ]
  },
  {
   "cell_type": "markdown",
   "id": "40d03ebc-baaf-4450-8e54-bc00ddfb5a45",
   "metadata": {},
   "source": [
    "Let's now use BPE with 10 merging steps and see how this affects our data."
   ]
  },
  {
   "cell_type": "code",
   "execution_count": 12,
   "id": "70cbe602-2728-4d1e-84e6-922331d8763c",
   "metadata": {},
   "outputs": [
    {
     "name": "stdout",
     "output_type": "stream",
     "text": [
      "Original #tokens: 64807, #types: 9676\n",
      "\n",
      "BPE merges:\n",
      "('e', '</w>')\n",
      "\n",
      "('s', '</w>')\n",
      "\n",
      "('t', 'h')\n",
      "\n",
      "('n', '</w>')\n",
      "\n",
      "('t', '</w>')\n",
      "\n",
      "('d', '</w>')\n",
      "\n",
      "('e', 'r')\n",
      "\n",
      "(',', '</w>')\n",
      "\n",
      "('th', 'e</w>')\n",
      "\n",
      "('y', '</w>')\n",
      "\n",
      "BPE #tokens: 286038, #types: 102\n",
      "\n"
     ]
    }
   ],
   "source": [
    "# Given a vocab, return the number of tokens and types after some amount of merges\n",
    "def newstest2013_BPE(vocab, num_merges = 10, verbose = 0):\n",
    "    original_dict = vocab # expecting newstest2013 dictionary of words and frequencies\n",
    "    tokens, types = get_num_tokens_types(original_dict) # Input tokens and types number\n",
    "    print(f\"Original #tokens: {tokens}, #types: {types}\\n\")\n",
    "\n",
    "    # Convert newstest2013 dictionary to BPE input formatted\n",
    "    # (spaces between characters and </w> at the end of each word)\n",
    "    BPE_formatted_dict = create_BPE_from_vocab(original_dict)\n",
    "  \n",
    "    # Optional print\n",
    "    if verbose != 0:\n",
    "        print(\"BPE merges:\")\n",
    "    \n",
    "    # Run BPE\n",
    "    BPE_output_dict = run_BPE_example(vocab = BPE_formatted_dict, num_merges = num_merges, verbose=verbose)\n",
    "\n",
    "    # Convert BPE into a vocab dictionary of frequencies\n",
    "    post_BPE_vocab_dict = create_vocab_from_BPE(BPE_output_dict)\n",
    "\n",
    "    # Get number of tokens and types\n",
    "    tokens, types = get_num_tokens_types(post_BPE_vocab_dict)\n",
    "    print(f\"BPE #tokens: {tokens}, #types: {types}\\n\")\n",
    "    return None\n",
    "\n",
    "newstest2013_BPE(words_freq_dict, num_merges = 10, verbose = 2)"
   ]
  },
  {
   "cell_type": "markdown",
   "id": "1e0ce198-0ec2-459a-b13e-c0ad7cd86eb4",
   "metadata": {},
   "source": [
    "Great! So with 10 merges we can start to intuit about why the number of types goes down: we are effectively starting with a uni-gram representation of our data and merging our uni-grams into larger n-grams. The number of tokens in my above case is extremely large, since we're splitting our original words into individual characters. The [paper](https://arxiv.org/pdf/1508.07909.pdf) uses 59,500 merges for their model (they use 89,500 for joint BPE but I don't cover that in this report). Let's see what happens then:"
   ]
  },
  {
   "cell_type": "code",
   "execution_count": 13,
   "id": "820bc33f-bd44-4808-ad77-a0175dc9140f",
   "metadata": {},
   "outputs": [
    {
     "name": "stdout",
     "output_type": "stream",
     "text": [
      "Original #tokens: 64807, #types: 9676\n",
      "\n",
      "Error!\n",
      "run_BPE_example: max() failed for merge number 16876\n"
     ]
    }
   ],
   "source": [
    "# Wrap the previous function in a try-except so we don't actually get an error\n",
    "try:\n",
    "    # Spoiler! This will fail.\n",
    "    newstest2013_BPE(words_freq_dict, num_merges = 59500, verbose = 0)\n",
    "except Exception as e:\n",
    "    print(\"Error!\")\n",
    "    print(e)"
   ]
  },
  {
   "cell_type": "markdown",
   "id": "c5146d6c-1cc4-4a9e-94f6-1b92d7e90a59",
   "metadata": {},
   "source": [
    "Unfortunately, after 16,875 merges the BPE code fails. This is because there are no other words left to merge! To verify this, lets run this again with `num_merges=16875` and see what we have:"
   ]
  },
  {
   "cell_type": "code",
   "execution_count": 14,
   "id": "b99a08e8-1440-40a7-9b1f-fddaf2937e1f",
   "metadata": {},
   "outputs": [
    {
     "name": "stdout",
     "output_type": "stream",
     "text": [
      "Original #tokens: 64807, #types: 9676\n",
      "\n",
      "BPE #tokens: 64807, #types: 9676\n",
      "\n"
     ]
    }
   ],
   "source": [
    "newstest2013_BPE(words_freq_dict, num_merges = 16875, verbose = 0)"
   ]
  },
  {
   "cell_type": "markdown",
   "id": "c0675823-4d35-4eb0-8af3-083537ed6b91",
   "metadata": {},
   "source": [
    "Great! This is what we'd expect if we just merged all of our words back into whole words. I'm not sure why the paper mentions 59,500 merge operations, since we can clearly see that it breaks BPE. They might be talking about using BPE on another dataset. If anyone knows the answer please let me know!\n",
    "\n",
    "Let's try again with a few different values and analyze the results."
   ]
  },
  {
   "cell_type": "code",
   "execution_count": 15,
   "id": "fcde88a9-5d6b-4fa5-9ef8-0cd0145166ed",
   "metadata": {},
   "outputs": [
    {
     "name": "stdout",
     "output_type": "stream",
     "text": [
      "Running BPE for 5000 merges:\n",
      "Original #tokens: 64807, #types: 9676\n",
      "\n",
      "BPE #tokens: 82585, #types: 4691\n",
      "\n",
      "---------------------------------\n",
      "Running BPE for 10000 merges:\n",
      "Original #tokens: 64807, #types: 9676\n",
      "\n",
      "BPE #tokens: 71682, #types: 8148\n",
      "\n",
      "---------------------------------\n",
      "Running BPE for 15000 merges:\n",
      "Original #tokens: 64807, #types: 9676\n",
      "\n",
      "BPE #tokens: 66682, #types: 9884\n",
      "\n",
      "---------------------------------\n"
     ]
    }
   ],
   "source": [
    "for merges in [5000, 10000, 15000]:\n",
    "    print(f\"Running BPE for {merges} merges:\")\n",
    "    newstest2013_BPE(words_freq_dict, num_merges = merges, verbose = 0)\n",
    "    print(\"---------------------------------\")"
   ]
  },
  {
   "cell_type": "markdown",
   "id": "8b873610-190c-459d-a2e5-c75a6ff1ca05",
   "metadata": {},
   "source": [
    "Very nice! So from the above output we can see that as the number of merges approaches 16875, the number of tokens and number of types approach that of the non-BPE vocabulary. As mentioned earlier, BPE can  be used to reduce the number of types significantly while only marginally increasing the number of tokens. We can see this result with 5,000 merges, where the number of tokens increased 27% but the number of types decreased more than 50%! I now want to see what this looks like on a plot, but need to modify my functions slightly to get the data."
   ]
  },
  {
   "cell_type": "code",
   "execution_count": 16,
   "id": "cf9caf86-1fda-48ce-9d5c-9f4e9ebe5812",
   "metadata": {},
   "outputs": [
    {
     "data": {
      "image/png": "[encoded data removed]",
      "text/plain": [
       "<Figure size 640x480 with 1 Axes>"
      ]
     },
     "metadata": {},
     "output_type": "display_data"
    },
    {
     "data": {
      "image/png": "[encoded data removed]",
      "text/plain": [
       "<Figure size 640x480 with 1 Axes>"
      ]
     },
     "metadata": {},
     "output_type": "display_data"
    }
   ],
   "source": [
    "# Given a BPE formatted vocab, get the number of tokens and types for each time we merge via BPE\n",
    "def get_BPE_data(vocab, num_merges = 10):\n",
    "    # New: Store data\n",
    "    tokens_list = []\n",
    "    types_list = []\n",
    "    \n",
    "    # Iterate over num_merges\n",
    "    for i in range(num_merges):\n",
    "        pairs = get_stats(vocab)\n",
    "        try:\n",
    "            best = max(pairs, key=pairs.get)\n",
    "        except:\n",
    "            raise Exception(f\"run_BPE_example: max() failed for merge number {i+1}\")\n",
    "        vocab = merge_vocab(best, vocab)\n",
    "        \n",
    "        # New: convert back vocab to get tokens and types\n",
    "        post_BPE_vocab_dict = create_vocab_from_BPE(vocab)\n",
    "        tokens, types = get_num_tokens_types(post_BPE_vocab_dict)\n",
    "        \n",
    "        # New: Append to list\n",
    "        tokens_list.append(tokens)\n",
    "        types_list.append(types)\n",
    "        \n",
    "    return tokens_list, types_list\n",
    "\n",
    "# Get the list of tokens and types for each merge of an input vocab\n",
    "def newstest2013_BPE_data(vocab, num_merges = 10):\n",
    "    original_dict = words_freq_dict # expecting newstest2013 dictionary of words and frequencies\n",
    "\n",
    "    # convert newstest2013 dictionary to BPE input formatted\n",
    "    # (spaces between characters and </w> at the end of each word)\n",
    "    BPE_formatted_dict = create_BPE_from_vocab(original_dict)\n",
    "\n",
    "    # Get the list of tokens and types\n",
    "    tokens_list, types_list = get_BPE_data(vocab = BPE_formatted_dict, num_merges = num_merges)\n",
    "    \n",
    "    return tokens_list, types_list\n",
    "\n",
    "tokens_list, types_list = newstest2013_BPE_data(words_freq_dict, num_merges = 16875)\n",
    "\n",
    "# Make our plot\n",
    "plt.plot(tokens_list, color='red', label=\"Tokens\")\n",
    "plt.title(\"Tokens amount per number of merges\")\n",
    "plt.xlabel(\"Number of merges\")\n",
    "plt.ylabel(\"Number of tokens\")\n",
    "plt.legend()\n",
    "plt.show()\n",
    "\n",
    "plt.plot(types_list, color='red', label=\"Types\")\n",
    "plt.title(\"Types amount per number of merges\")\n",
    "plt.xlabel(\"Number of merges\")\n",
    "plt.ylabel(\"Number of types\")\n",
    "plt.legend()\n",
    "plt.show()"
   ]
  },
  {
   "cell_type": "code",
   "execution_count": 18,
   "id": "c00c0afb-af1c-48b4-aed2-27d11fe77847",
   "metadata": {},
   "outputs": [
    {
     "name": "stdout",
     "output_type": "stream",
     "text": [
      "93\n"
     ]
    }
   ],
   "source": [
    "print(types_list[0])"
   ]
  },
  {
   "cell_type": "markdown",
   "id": "a48fc436-02cb-4dbc-92a7-606ea5f5307c",
   "metadata": {},
   "source": [
    "Fascinating! So, it makes sense why the number of tokens decreases with each merge, since we're effectively reducing the number of our vocabulary. However, the shape of the curve for the number of types is very interesting. Initially, the number of types is 93 (I had to make sure it wasn't zero in the previous code-block lol), which is the number of unique characters in our vocab. Then, with each subsequent merge, we're creating n-grams of different sizes depending on the most frequent pairs of n-grams. These combinations create *new* \"types\" in our vocab (effectively just new vocab entries). However, after a certain amount of merges, the number of types starts to decrease as we end up creating our original vocab by creating whole words! Very cool.\n",
    "\n",
    "One can use this figure to try to find the optimal amount of merges. To me, it seems like around 2,150 would be optimal to have a small number of types, but not that large of the number of tokens."
   ]
  },
  {
   "cell_type": "code",
   "execution_count": 19,
   "id": "db36b6bb-0dfa-4e5e-9a51-bf0856a2f9cc",
   "metadata": {},
   "outputs": [
    {
     "name": "stdout",
     "output_type": "stream",
     "text": [
      "Original #tokens: 64807, #types: 9676\n",
      "\n",
      "BPE #tokens: 100408, #types: 2191\n",
      "\n"
     ]
    }
   ],
   "source": [
    "newstest2013_BPE(words_freq_dict, num_merges = 2150, verbose = 0)"
   ]
  },
  {
   "cell_type": "markdown",
   "id": "2ed791ff-8293-4e7f-8541-75cc54b28ff4",
   "metadata": {},
   "source": [
    "So now, we're getting just under a 100% increase in the amount of tokens as the original, but also about a 75% decrease in the original number of types. I don't think my guess was as good as I thought lol."
   ]
  },
  {
   "cell_type": "markdown",
   "id": "1f62ecd3-c149-4be3-af7c-c3bb4b313a93",
   "metadata": {},
   "source": [
    "Granted, these results aren't as good as that in the [paper](https://arxiv.org/pdf/1508.07909.pdf), where the number of tokens increased about 12% and the number of types decreased about 97%, we can still see that this is a good proof of concept.\n",
    "\n",
    "The performance improvement in the paper could be attributed to a larger training corpus, where it's mentioned they use German data, which contains about 100 million words. This could also explain the reason 59,500 merges didn't work in my case since I'm using a *much* smaller initial vocabulary for BPE."
   ]
  },
  {
   "cell_type": "markdown",
   "id": "d4e623a2-0732-4c0c-bfda-eac95d0eef46",
   "metadata": {},
   "source": [
    "### **Conclusions**"
   ]
  },
  {
   "cell_type": "markdown",
   "id": "515b651e-a5ae-4d7d-a8b0-d14188cad353",
   "metadata": {},
   "source": [
    "In conclusion, it's clear that BPE is a very powerful algorithm that is easy to implement. The intuition behind having variable length n-grams for your training data is to allow neural machine translation models to infer the meanings of unseen words pretty easily. BPE can be used to do this, where all that's needed is an input vocabulary with the frequencies for each word. We saw how the algorithm is easy to implement and how it can easily be used on datasets to create those variable length n-grams.\n",
    "\n",
    "Future research could involve exploring the effects of BPE on different datasets, playing around with joint BPE, and exploring *how* new words are inferred in translation models."
   ]
  },
  {
   "cell_type": "markdown",
   "id": "3b0796a0-d869-414c-ae25-7e33fceac875",
   "metadata": {},
   "source": [
    "Thanks for reading and I hope this helped understanding BPE a bit!"
   ]
  }
 ],
 "metadata": {
  "kernelspec": {
   "display_name": "Python 3 (ipykernel)",
   "language": "python",
   "name": "python3"
  },
  "language_info": {
   "codemirror_mode": {
    "name": "ipython",
    "version": 3
   },
   "file_extension": ".py",
   "mimetype": "text/x-python",
   "name": "python",
   "nbconvert_exporter": "python",
   "pygments_lexer": "ipython3",
   "version": "3.10.8"
  }
 },
 "nbformat": 4,
 "nbformat_minor": 5
}
