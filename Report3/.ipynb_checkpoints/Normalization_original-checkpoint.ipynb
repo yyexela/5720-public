{
 "cells": [
  {
   "cell_type": "code",
   "execution_count": null,
   "metadata": {
    "id": "djtBeFnLQcJc"
   },
   "outputs": [],
   "source": [
    "import torch"
   ]
  },
  {
   "cell_type": "code",
   "execution_count": null,
   "metadata": {
    "colab": {
     "base_uri": "https://localhost:8080/",
     "height": 37
    },
    "id": "3tl8CcwlQhsg",
    "outputId": "5cc8ba4b-27f3-4488-c8a7-84f02b9093b6"
   },
   "outputs": [
    {
     "data": {
      "application/vnd.google.colaboratory.intrinsic+json": {
       "type": "string"
      },
      "text/plain": [
       "'1.12.1+cu113'"
      ]
     },
     "execution_count": 2,
     "metadata": {},
     "output_type": "execute_result"
    }
   ],
   "source": [
    "torch.__version__"
   ]
  },
  {
   "cell_type": "code",
   "execution_count": null,
   "metadata": {
    "id": "Yb5sUTEZQqsi"
   },
   "outputs": [],
   "source": [
    "import tensorflow as tf"
   ]
  },
  {
   "cell_type": "code",
   "execution_count": null,
   "metadata": {
    "colab": {
     "base_uri": "https://localhost:8080/",
     "height": 37
    },
    "id": "kovkO3tSRBY5",
    "outputId": "2c361f12-d39c-4c69-f482-4c473d202523"
   },
   "outputs": [
    {
     "data": {
      "application/vnd.google.colaboratory.intrinsic+json": {
       "type": "string"
      },
      "text/plain": [
       "'2.8.2'"
      ]
     },
     "execution_count": 4,
     "metadata": {},
     "output_type": "execute_result"
    }
   ],
   "source": [
    "tf.__version__"
   ]
  },
  {
   "cell_type": "code",
   "execution_count": 1,
   "metadata": {
    "id": "lnVmiVWeeK9z"
   },
   "outputs": [],
   "source": [
    "import numpy as np"
   ]
  },
  {
   "cell_type": "code",
   "execution_count": 32,
   "metadata": {
    "id": "aigs0D3peF-s"
   },
   "outputs": [],
   "source": [
    "x_train = 0 + 0.1 * np.random.randn(100)\n",
    "y_train = np.sin(x_train) + np.random.randn(100)"
   ]
  },
  {
   "cell_type": "code",
   "execution_count": 33,
   "metadata": {
    "colab": {
     "base_uri": "https://localhost:8080/"
    },
    "id": "BvouEwyeeMU7",
    "outputId": "3e966227-d6ea-4845-8e4f-5c2fe60a4541"
   },
   "outputs": [
    {
     "data": {
      "text/plain": [
       "array([-0.11942631,  0.13093283, -0.10238976,  0.04579983,  0.025964  ,\n",
       "        0.08048817, -0.04803448,  0.02291957,  0.05663918,  0.05711748,\n",
       "        0.05587437, -0.00524176,  0.10828171, -0.01480527, -0.1353447 ,\n",
       "        0.13173506, -0.05206591,  0.0230343 , -0.04662022,  0.1109781 ,\n",
       "        0.11070501, -0.15272241, -0.15027332, -0.13211099,  0.04175204,\n",
       "        0.21343466,  0.12617144, -0.07413447, -0.04747857,  0.00203218,\n",
       "       -0.18427484,  0.03049443, -0.04375171,  0.04085945, -0.11597214,\n",
       "        0.04023265, -0.01773125,  0.1771526 ,  0.06784855,  0.01669021,\n",
       "        0.02179373,  0.05129328,  0.05628268,  0.06028672,  0.0937283 ,\n",
       "       -0.10432786, -0.08506574, -0.04966465, -0.16516491,  0.04760886,\n",
       "       -0.0584014 ,  0.00896991,  0.04609861,  0.110882  , -0.18815153,\n",
       "       -0.25648503,  0.00787703, -0.14586323, -0.11179435,  0.02923918,\n",
       "        0.02527322, -0.0825724 , -0.00307597,  0.11444926,  0.13353434,\n",
       "       -0.0196681 , -0.00435924,  0.06586612, -0.01516463, -0.03178349,\n",
       "       -0.07811911, -0.31813229,  0.00337015, -0.04862077, -0.05868148,\n",
       "        0.02242525, -0.18441824, -0.03730314, -0.02106849, -0.02158171,\n",
       "       -0.07170416,  0.10695601,  0.1012125 , -0.00148323,  0.00260799,\n",
       "        0.0140258 , -0.16869672, -0.19486427,  0.17824796,  0.01483068,\n",
       "       -0.05175426, -0.02217551,  0.0813666 ,  0.00529823,  0.22163545,\n",
       "       -0.12639798, -0.00582713,  0.03371429, -0.07236562, -0.08236957])"
      ]
     },
     "execution_count": 33,
     "metadata": {},
     "output_type": "execute_result"
    }
   ],
   "source": [
    "x_train"
   ]
  },
  {
   "cell_type": "code",
   "execution_count": 34,
   "metadata": {
    "id": "pWC1TEixefMR"
   },
   "outputs": [],
   "source": [
    "X_train = np.array([x_train**i for i in range(0,10)]).transpose()"
   ]
  },
  {
   "cell_type": "code",
   "execution_count": 43,
   "metadata": {
    "colab": {
     "base_uri": "https://localhost:8080/"
    },
    "id": "jNKtTWtYfgWn",
    "outputId": "163d4fea-c596-4315-b5b1-341a44404509"
   },
   "outputs": [
    {
     "data": {
      "text/plain": [
       "(100, 10)"
      ]
     },
     "execution_count": 43,
     "metadata": {},
     "output_type": "execute_result"
    }
   ],
   "source": [
    "X_train.shape"
   ]
  },
  {
   "cell_type": "code",
   "execution_count": 35,
   "metadata": {
    "id": "Ay2n_UFzeyqA"
   },
   "outputs": [],
   "source": [
    "import matplotlib.pyplot as plt"
   ]
  },
  {
   "cell_type": "code",
   "execution_count": 36,
   "metadata": {
    "colab": {
     "base_uri": "https://localhost:8080/",
     "height": 282
    },
    "id": "EpEXmnhnfJue",
    "outputId": "08923d0e-d86b-4104-ad25-59f13c4a46e0"
   },
   "outputs": [
    {
     "data": {
      "text/plain": [
       "[<matplotlib.lines.Line2D at 0x7f85c5ecaa50>]"
      ]
     },
     "execution_count": 36,
     "metadata": {},
     "output_type": "execute_result"
    },
    {
     "data": {
      "image/png": "[encoded data removed]",
      "text/plain": [
       "<Figure size 432x288 with 1 Axes>"
      ]
     },
     "metadata": {
      "needs_background": "light"
     },
     "output_type": "display_data"
    }
   ],
   "source": [
    "plt.plot(x_train, y_train, '.')"
   ]
  },
  {
   "cell_type": "code",
   "execution_count": 46,
   "metadata": {
    "colab": {
     "base_uri": "https://localhost:8080/",
     "height": 282
    },
    "id": "Gp7v-W_OfL_p",
    "outputId": "3d364641-e1e3-4122-810d-e05ed86c0a15"
   },
   "outputs": [
    {
     "data": {
      "text/plain": [
       "[<matplotlib.lines.Line2D at 0x7f85c5d0c310>]"
      ]
     },
     "execution_count": 46,
     "metadata": {},
     "output_type": "execute_result"
    },
    {
     "data": {
      "image/png": "[encoded data removed]",
      "text/plain": [
       "<Figure size 432x288 with 1 Axes>"
      ]
     },
     "metadata": {
      "needs_background": "light"
     },
     "output_type": "display_data"
    }
   ],
   "source": [
    "plt.plot(X_train[:,1], X_train[:,4], '.')"
   ]
  },
  {
   "cell_type": "code",
   "execution_count": 41,
   "metadata": {
    "id": "B1zltS88fYnN"
   },
   "outputs": [],
   "source": [
    "# y_pred = (X_train'*X_train)^-1*X_train'*y_train"
   ]
  },
  {
   "cell_type": "code",
   "execution_count": 40,
   "metadata": {
    "id": "ndULECeKhKwY"
   },
   "outputs": [],
   "source": [
    "# X_train_standardized = (X_train - X_train.min(axis = 1))/(max -  X_train.min(axis = 1)"
   ]
  },
  {
   "cell_type": "code",
   "execution_count": null,
   "metadata": {
    "id": "otmM-Y7yfdMc"
   },
   "outputs": [],
   "source": [
    "# y_pred = a_0*X[:,0] + a_1*X[:,1] + ...\n",
    "# loss = (y_pred - y_train)**2.mean()\n",
    "# SGD for loop"
   ]
  },
  {
   "cell_type": "code",
   "execution_count": null,
   "metadata": {
    "id": "P2sjeZ2UpLr5"
   },
   "outputs": [],
   "source": [
    "# L2  = 0.5*(a_0**2 + a_1**2 + ...)\n",
    "# loss = loss_MSE +  lambda*L2"
   ]
  },
  {
   "cell_type": "code",
   "execution_count": null,
   "metadata": {
    "id": "8o4FFG1upl4A"
   },
   "outputs": [],
   "source": [
    "# - d L2 / d (a_0) = - a_0"
   ]
  }
 ],
 "metadata": {
  "colab": {
   "provenance": []
  },
  "kernelspec": {
   "display_name": "Python 3",
   "language": "python",
   "name": "python3"
  },
  "language_info": {
   "codemirror_mode": {
    "name": "ipython",
    "version": 3
   },
   "file_extension": ".py",
   "mimetype": "text/x-python",
   "name": "python",
   "nbconvert_exporter": "python",
   "pygments_lexer": "ipython3",
   "version": "3.8.10"
  }
 },
 "nbformat": 4,
 "nbformat_minor": 1
}
